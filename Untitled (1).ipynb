{
 "cells": [
  {
   "cell_type": "markdown",
   "id": "395b5a6f",
   "metadata": {},
   "source": [
    "# Assignment 1.2"
   ]
  },
  {
   "cell_type": "code",
   "execution_count": 1,
   "id": "cea36f52",
   "metadata": {},
   "outputs": [
    {
     "name": "stdout",
     "output_type": "stream",
     "text": [
      "Hello World! I wonder why that is always the default coding text to start with\n",
      "11\n",
      "1\n",
      "30\n",
      "6.0\n",
      "[1, 2, 'a', 'b']\n",
      "[1, 2, 'a', 'b', 3]\n",
      "('e', 'f', 6, 7)\n"
     ]
    }
   ],
   "source": [
    "print(\"Hello World! I wonder why that is always the default coding text to start with\")\n",
    "\n",
    "x = 5 + 6\n",
    "print(x)\n",
    "\n",
    "p = 5\n",
    "q = 6\n",
    "r = q-p\n",
    "print (r)\n",
    "\n",
    "\n",
    "s = p*q\n",
    "\n",
    "print(s)\n",
    "\n",
    "\n",
    "t =s/p\n",
    "\n",
    "print(t)\n",
    "\n",
    "\"String\" + \" \" + \"Concatenation\"\n",
    "\n",
    "list1 = [1,2,\"a\",\"b\"]\n",
    "\n",
    "print(list1)\n",
    "\n",
    "list1.append(3)\n",
    "print(list1)\n",
    "\n",
    "tuple1 = (\"e\",\"f\",6,7)\n",
    "\n",
    "print(tuple1)"
   ]
  }
 ],
 "metadata": {
  "kernelspec": {
   "display_name": "Python 3 (ipykernel)",
   "language": "python",
   "name": "python3"
  },
  "language_info": {
   "codemirror_mode": {
    "name": "ipython",
    "version": 3
   },
   "file_extension": ".py",
   "mimetype": "text/x-python",
   "name": "python",
   "nbconvert_exporter": "python",
   "pygments_lexer": "ipython3",
   "version": "3.9.13"
  }
 },
 "nbformat": 4,
 "nbformat_minor": 5
}
